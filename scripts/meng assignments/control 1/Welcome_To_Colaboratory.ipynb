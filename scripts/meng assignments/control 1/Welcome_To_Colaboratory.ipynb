{
  "nbformat": 4,
  "nbformat_minor": 0,
  "metadata": {
    "colab": {
      "name": "Welcome_To_Colaboratory.ipynb",
      "provenance": [],
      "collapsed_sections": [],
      "include_colab_link": true
    },
    "kernelspec": {
      "display_name": "Python 3",
      "name": "python3"
    }
  },
  "cells": [
    {
      "cell_type": "markdown",
      "metadata": {
        "id": "view-in-github",
        "colab_type": "text"
      },
      "source": [
        "<a href=\"https://colab.research.google.com/github/ronan-keane/havsim/blob/RL3/scripts/meng%20assignments/control%201/Welcome_To_Colaboratory.ipynb\" target=\"_parent\"><img src=\"https://colab.research.google.com/assets/colab-badge.svg\" alt=\"Open In Colab\"/></a>"
      ]
    },
    {
      "cell_type": "markdown",
      "metadata": {
        "id": "JCCr4gkqeITt",
        "colab_type": "text"
      },
      "source": [
        "#Setup\n",
        "\n",
        "Instructions for git setup through drive: \n",
        "https://stackoverflow.com/a/54854545/13315377"
      ]
    },
    {
      "cell_type": "code",
      "metadata": {
        "id": "3wxMtqbfdORt",
        "colab_type": "code",
        "colab": {}
      },
      "source": [
        "from google.colab import drive\n",
        "drive.mount('/content/drive')"
      ],
      "execution_count": 0,
      "outputs": []
    },
    {
      "cell_type": "code",
      "metadata": {
        "id": "cSv5kBLsdU1b",
        "colab_type": "code",
        "colab": {}
      },
      "source": [
        "%cd \"/content/drive/My Drive/projects/havsim\"\n",
        "!pip install -e ."
      ],
      "execution_count": 0,
      "outputs": []
    },
    {
      "cell_type": "code",
      "metadata": {
        "id": "6IHyZVXPfYtz",
        "colab_type": "code",
        "colab": {}
      },
      "source": [
        "import havsim"
      ],
      "execution_count": 0,
      "outputs": []
    },
    {
      "cell_type": "code",
      "metadata": {
        "id": "DfKz7paWfG7u",
        "colab_type": "code",
        "colab": {}
      },
      "source": [
        "%cd \"scripts/meng assignments/control 1/\""
      ],
      "execution_count": 0,
      "outputs": []
    },
    {
      "cell_type": "markdown",
      "metadata": {
        "id": "hjeLU5JVeGDz",
        "colab_type": "text"
      },
      "source": [
        "# Imports"
      ]
    },
    {
      "cell_type": "code",
      "metadata": {
        "id": "Nw4tmYyfeuaa",
        "colab_type": "code",
        "colab": {}
      },
      "source": [
        "from drl import *"
      ],
      "execution_count": 0,
      "outputs": []
    },
    {
      "cell_type": "code",
      "metadata": {
        "id": "n6HTYKiSfcQf",
        "colab_type": "code",
        "colab": {}
      },
      "source": [
        "p = [33.33, 1.2, 2, 1.1, 1.5] #parameters for human drivers\n",
        "initstate, auxinfo, roadinfo = eq_circular(p, IDM_b3, update2nd_cir, IDM_b3_eql, 41, length = 2, L = None, v = 15, perturb = 2) #create initial state on road\n",
        "sim, curstate, auxinfo = simulate_cir(initstate, auxinfo,roadinfo, update_cir, timesteps = 25000, dt = .25)\n",
        "vlist = {i: curstate[i][1] for i in curstate.keys()}\n",
        "avid = min(vlist, key=vlist.get)\n",
        "testingtime = 1500\n",
        "#create simulation environment\n",
        "testenv = circ_singleav(curstate, auxinfo, roadinfo, avid, drl_reward8,dt = .25)"
      ],
      "execution_count": 0,
      "outputs": []
    },
    {
      "cell_type": "code",
      "metadata": {
        "id": "3OIKYCqtgBVI",
        "colab_type": "code",
        "colab": {
          "base_uri": "https://localhost:8080/",
          "height": 34
        },
        "outputId": "5bcb628b-79d6-4a37-e6cd-564ecc14150f"
      },
      "source": [
        "testingtime = 64\n",
        "\n",
        "times=[]\n",
        "for _ in range(5):\n",
        "    start = time.time()\n",
        "    testenv.simulate_baseline(FS,[2,.4,.4,3,3,7,15,2], testingtime)\n",
        "    end = time.time()\n",
        "    times.append(end-start)\n",
        "print(\"Average over 5 runs is {:.4f}\".format(np.mean(times)))   #0.0115\n",
        "##\n",
        "###For the same batch size, time how long it takes to do that many steps in training for cart pole.\n",
        "env = gym.make('CartPole-v0')\n",
        "agent = ACagent(PolicyModel(num_actions=env.action_space.n), ValueModel(num_hiddenlayers = 4))\n",
        "testenv = gym_env(env)"
      ],
      "execution_count": 19,
      "outputs": [
        {
          "output_type": "stream",
          "text": [
            "Average over 5 runs is 0.0138\n"
          ],
          "name": "stdout"
        }
      ]
    },
    {
      "cell_type": "code",
      "metadata": {
        "id": "4QUHqJPogFNn",
        "colab_type": "code",
        "colab": {
          "base_uri": "https://localhost:8080/",
          "height": 122
        },
        "outputId": "1c49564c-455a-4f6f-d614-29f96837340e"
      },
      "source": [
        "times2=[]\n",
        "out2 = []\n",
        "for _ in range(5):\n",
        "    start = time.time()\n",
        "    agent.train(testenv, updates=1)\n",
        "    end = time.time()\n",
        "    times2.append(end-start)\n",
        "    out2.append(agent.timecounter)\n",
        "print(\"Average over 5 runs is {:.4f}\".format(np.mean(times2)))  #5.8304 eager\n",
        "print(np.mean(out2))\n",
        "start = time.time()\n",
        "for i in range(64):\n",
        "    out = testenv.step(tf.convert_to_tensor(0), 0, 0, False)\n",
        "print(time.time()-start)\n"
      ],
      "execution_count": 20,
      "outputs": [
        {
          "output_type": "stream",
          "text": [
            "Average over 5 runs is 1.0297\n",
            "0.0047530651092529295\n",
            "0.004227399826049805\n"
          ],
          "name": "stdout"
        },
        {
          "output_type": "stream",
          "text": [
            "/usr/local/lib/python3.6/dist-packages/gym/logger.py:30: UserWarning: \u001b[33mWARN: You are calling 'step()' even though this environment has already returned done = True. You should always call 'reset()' once you receive 'done = True' -- any further steps are undefined behavior.\u001b[0m\n",
            "  warnings.warn(colorize('%s: %s'%('WARN', msg % args), 'yellow'))\n"
          ],
          "name": "stderr"
        }
      ]
    },
    {
      "cell_type": "code",
      "metadata": {
        "id": "TIgGSWqHgViB",
        "colab_type": "code",
        "colab": {
          "base_uri": "https://localhost:8080/",
          "height": 275
        },
        "outputId": "09ae9988-0a25-4428-fd64-3832a58ed374"
      },
      "source": [
        "testenv = circ_singleav(curstate, auxinfo, roadinfo, avid, drl_reward8,dt = .25)\n",
        "agent = ACagent(PolicyModel(num_actions=3), ValueModel())\n",
        "\n",
        "times3=[]\n",
        "out3 = []\n",
        "for _ in range(5):\n",
        "    start = time.time()\n",
        "    agent.train(testenv, updates=1)\n",
        "    end = time.time()\n",
        "    times3.append(end-start)\n",
        "    out3.append(agent.timecounter)\n",
        "print(\"Average over 5 runs is {:.4f}\".format(np.mean(times3)))  #25.1353 eager\n",
        "print(np.mean(out3))"
      ],
      "execution_count": 21,
      "outputs": [
        {
          "output_type": "stream",
          "text": [
            "WARNING:tensorflow:Layer policy_model_1 is casting an input tensor from dtype float64 to the layer's dtype of float32, which is new behavior in TensorFlow 2.  The layer has dtype float32 because it's dtype defaults to floatx.\n",
            "\n",
            "If you intended to run this layer in float32, you can safely ignore this warning. If in doubt, this warning is likely only an issue if you are porting a TensorFlow 1.X model to TensorFlow 2.\n",
            "\n",
            "To change all layers to have dtype float64 by default, call `tf.keras.backend.set_floatx('float64')`. To change just this layer, pass dtype='float64' to the layer constructor. If you are the author of this layer, you can disable autocasting by passing autocast=False to the base Layer constructor.\n",
            "\n",
            "WARNING:tensorflow:Layer value_model_1 is casting an input tensor from dtype float64 to the layer's dtype of float32, which is new behavior in TensorFlow 2.  The layer has dtype float32 because it's dtype defaults to floatx.\n",
            "\n",
            "If you intended to run this layer in float32, you can safely ignore this warning. If in doubt, this warning is likely only an issue if you are porting a TensorFlow 1.X model to TensorFlow 2.\n",
            "\n",
            "To change all layers to have dtype float64 by default, call `tf.keras.backend.set_floatx('float64')`. To change just this layer, pass dtype='float64' to the layer constructor. If you are the author of this layer, you can disable autocasting by passing autocast=False to the base Layer constructor.\n",
            "\n",
            "Average over 5 runs is 1.2556\n",
            "0.3733990669250488\n"
          ],
          "name": "stdout"
        }
      ]
    }
  ]
}